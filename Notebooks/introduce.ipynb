{
 "cells": [
  {
   "cell_type": "markdown",
   "metadata": {},
   "source": [
    "### What is Pytorch  \n",
    "PyTorch is an open source machine learning (ML) framework based on the Python programming language and the Torch library. It is one of the preferred platforms for deep learning research. The framework is built to speed up the process between research prototyping and deployment.\n",
    "\n",
    "[Click](https://pytorch.org/docs/stable/index.html) for Pytorch documentation"
   ]
  },
  {
   "cell_type": "code",
   "execution_count": 1,
   "metadata": {},
   "outputs": [
    {
     "data": {
      "text/plain": [
       "'1.13.0+cu117'"
      ]
     },
     "execution_count": 1,
     "metadata": {},
     "output_type": "execute_result"
    }
   ],
   "source": [
    "import torch \n",
    "\n",
    "torch.__version__"
   ]
  },
  {
   "cell_type": "markdown",
   "metadata": {},
   "source": [
    "### What are we using\n",
    "use `torch.cuda.is_available()` function to see if we are using the GPU when we make code running.  \n",
    "\n",
    "If the result is `False` then we are not using GPU when we are making running the code.  \n",
    "  \n",
    "Visit [this](https://wandb.ai/wandb/common-ml-errors/reports/How-To-Use-GPU-with-PyTorch---VmlldzozMzAxMDk) website for learn how to using GPU for lower running time.  "
   ]
  },
  {
   "cell_type": "code",
   "execution_count": 3,
   "metadata": {},
   "outputs": [
    {
     "data": {
      "text/plain": [
       "False"
      ]
     },
     "execution_count": 3,
     "metadata": {},
     "output_type": "execute_result"
    }
   ],
   "source": [
    "torch.cuda.is_available()"
   ]
  },
  {
   "cell_type": "markdown",
   "metadata": {},
   "source": [
    "### Key Features & Capabilities  \n",
    "  \n",
    "**Production Ready**  \n",
    "Transition seamlessly between eager and graph modes with TorchScript, and accelerate the path to production with TorchServe.  \n",
    "  \n",
    "**Distributed Training**\n",
    "Scalable distributed training and performance optimization in research and production is enabled by the torch.distributed backend.  \n",
    "  \n",
    "**Robust Ecosystem**  \n",
    "A rich ecosystem of tools and libraries extends PyTorch and supports development in computer vision, NLP and more.  \n",
    "  \n",
    "**Cloud Support**  \n",
    "PyTorch is well supported on major cloud platforms, providing frictionless development and easy scaling.  "
   ]
  }
 ],
 "metadata": {
  "kernelspec": {
   "display_name": "Python 3.10.5 64-bit",
   "language": "python",
   "name": "python3"
  },
  "language_info": {
   "codemirror_mode": {
    "name": "ipython",
    "version": 3
   },
   "file_extension": ".py",
   "mimetype": "text/x-python",
   "name": "python",
   "nbconvert_exporter": "python",
   "pygments_lexer": "ipython3",
   "version": "3.10.5"
  },
  "orig_nbformat": 4,
  "vscode": {
   "interpreter": {
    "hash": "578ce5a4903d7b45920c2d79663ce2541e7c0226009dc3f8451a28c8417bba54"
   }
  }
 },
 "nbformat": 4,
 "nbformat_minor": 2
}
